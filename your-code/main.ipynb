{
 "cells": [
  {
   "cell_type": "markdown",
   "id": "2d81c019-de9c-4662-9a89-1ae1591416a1",
   "metadata": {},
   "source": [
    "# CNN chalenge"
   ]
  },
  {
   "cell_type": "markdown",
   "id": "4789e379-5662-43be-9fb5-f6484c941118",
   "metadata": {},
   "source": [
    "In this exercise, you will build a CNN to classify images from the Fashion MNIST dataset, train the model, evaluate its performance, and visualize predictions with a confusion matrix."
   ]
  },
  {
   "cell_type": "markdown",
   "id": "e2b4ccc2-cbf4-4828-bd5c-c04b43d0dac5",
   "metadata": {},
   "source": [
    "## Prepare the data"
   ]
  },
  {
   "cell_type": "markdown",
   "id": "6534b95f-29a3-4466-9e74-bcb3276353fe",
   "metadata": {},
   "source": [
    "Load the Fashion MNIST dataset using Keras and display the first few images with their labels to get a sense of the data."
   ]
  },
  {
   "cell_type": "code",
   "execution_count": 1,
   "id": "205e1d88-aea7-4c14-9e90-fa27ab2901b3",
   "metadata": {},
   "outputs": [],
   "source": [
    "from tensorflow.keras.datasets import fashion_mnist\n",
    "import matplotlib.pyplot as plt\n",
    "\n",
    "(x_train, y_train), (x_test, y_test) = fashion_mnist.load_data()\n",
    "\n",
    "# Task: Normalize the data to have pixel values between 0 and 1\n",
    "# Your code here"
   ]
  },
  {
   "cell_type": "code",
   "execution_count": 22,
   "id": "0ca592b6",
   "metadata": {},
   "outputs": [
    {
     "data": {
      "text/plain": [
       "(10000,)"
      ]
     },
     "execution_count": 22,
     "metadata": {},
     "output_type": "execute_result"
    }
   ],
   "source": [
    "y_test.shape"
   ]
  },
  {
   "cell_type": "markdown",
   "id": "5697acba-923a-4dd5-b22f-a39c5d046caf",
   "metadata": {},
   "source": [
    "Visualize 5 random images from the training set with their labels."
   ]
  },
  {
   "cell_type": "code",
   "execution_count": 2,
   "id": "232975e7",
   "metadata": {},
   "outputs": [
    {
     "data": {
      "image/png": "[encoded data removed]",
      "text/plain": [
       "<Figure size 1500x300 with 5 Axes>"
      ]
     },
     "metadata": {},
     "output_type": "display_data"
    }
   ],
   "source": [
    "fig, axes = plt.subplots(1, 5, figsize=(15, 3))\n",
    "\n",
    "for i in range(5):\n",
    "    axes[i].imshow(x_train[i])\n",
    "    axes[i].axis('off') \n",
    "\n",
    "plt.tight_layout()\n",
    "plt.show()"
   ]
  },
  {
   "cell_type": "markdown",
   "id": "372113a7-392e-4bcf-afa4-1bbab8a0af02",
   "metadata": {},
   "source": [
    "Reshape the data to include a channel dimension and confirm the new shape."
   ]
  },
  {
   "cell_type": "code",
   "execution_count": 3,
   "id": "f55c275c-142f-42c4-a2b2-9f045d7dcc37",
   "metadata": {},
   "outputs": [],
   "source": [
    "# Task: Reshape x_train and x_test to include the channel dimension\n",
    "# Your code here\n",
    "x_train = x_train.reshape(-1, 28, 28, 1) / 255.0 \n",
    "x_test = x_test.reshape(-1, 28, 28, 1) / 255.0"
   ]
  },
  {
   "cell_type": "markdown",
   "id": "29d11c54-4ceb-44fe-80ea-f9925f5f7045",
   "metadata": {},
   "source": [
    "## Build the CNN model"
   ]
  },
  {
   "cell_type": "markdown",
   "id": "2ece4b51-6d58-4100-98a9-b6cf5ddb546d",
   "metadata": {},
   "source": [
    "Create a CNN with at least two convolutional layers, followed by max pooling layers, and a dense output layer.\n",
    "\n",
    "Rememeber the `Conv2D`, `MaxPooling2D`, `Flatten`, `Dropout` and `Dense`layers."
   ]
  },
  {
   "cell_type": "code",
   "execution_count": 4,
   "id": "a4a0093a-97e2-4987-936f-7322531cc570",
   "metadata": {},
   "outputs": [
    {
     "name": "stderr",
     "output_type": "stream",
     "text": [
      "/Users/sergej/Library/Mobile Documents/com~apple~CloudDocs/DS_AI/python_projects/tf_env/lib/python3.11/site-packages/keras/src/layers/convolutional/base_conv.py:113: UserWarning: Do not pass an `input_shape`/`input_dim` argument to a layer. When using Sequential models, prefer using an `Input(shape)` object as the first layer in the model instead.\n",
      "  super().__init__(activity_regularizer=activity_regularizer, **kwargs)\n",
      "2025-09-10 16:29:02.277132: I metal_plugin/src/device/metal_device.cc:1154] Metal device set to: Apple M3\n",
      "2025-09-10 16:29:02.277158: I metal_plugin/src/device/metal_device.cc:296] systemMemory: 16.00 GB\n",
      "2025-09-10 16:29:02.277211: I metal_plugin/src/device/metal_device.cc:313] maxCacheSize: 5.33 GB\n",
      "2025-09-10 16:29:02.277262: I tensorflow/core/common_runtime/pluggable_device/pluggable_device_factory.cc:305] Could not identify NUMA node of platform GPU ID 0, defaulting to 0. Your kernel may not have been built with NUMA support.\n",
      "2025-09-10 16:29:02.277289: I tensorflow/core/common_runtime/pluggable_device/pluggable_device_factory.cc:271] Created TensorFlow device (/job:localhost/replica:0/task:0/device:GPU:0 with 0 MB memory) -> physical PluggableDevice (device: 0, name: METAL, pci bus id: <undefined>)\n"
     ]
    }
   ],
   "source": [
    "from tensorflow.keras import Sequential\n",
    "from tensorflow.keras.layers import Conv2D, MaxPooling2D, Flatten, Dense, Dropout\n",
    "\n",
    "# Task: Build your model here\n",
    "model = Sequential([\n",
    "    # Your layers here\n",
    "    Conv2D(32, (3, 3), activation='relu', input_shape=(28, 28, 1)),\n",
    "    Conv2D(64, (3, 3), activation='relu'),\n",
    "    MaxPooling2D((2, 2)),\n",
    "    Conv2D(64, (3, 3), activation='relu'),\n",
    "    MaxPooling2D((2, 2)),\n",
    "    Flatten(),\n",
    "    Dropout(0.5),\n",
    "    Dense(128, activation='relu'),\n",
    "    Dense(10, activation='softmax')\n",
    "])"
   ]
  },
  {
   "cell_type": "markdown",
   "id": "8e8bf0c0-6010-4217-a14c-fd82ec1e252a",
   "metadata": {},
   "source": [
    "Compile your model with an appropriate optimizer, loss function, and metric."
   ]
  },
  {
   "cell_type": "code",
   "execution_count": 5,
   "id": "d4b81088-73b4-45f1-add1-303f8fd8c240",
   "metadata": {},
   "outputs": [],
   "source": [
    "# Task: Compile your model\n",
    "# Your code here\n",
    "model.compile(optimizer='adam', loss='categorical_crossentropy', metrics=['accuracy'])"
   ]
  },
  {
   "cell_type": "code",
   "execution_count": 6,
   "id": "b81c147b",
   "metadata": {},
   "outputs": [],
   "source": [
    "from tensorflow.keras.utils import to_categorical\n",
    "y_train_one_hot = to_categorical(y_train, num_classes=10)\n",
    "y_test_one_hot = to_categorical(y_test, num_classes=10)"
   ]
  },
  {
   "cell_type": "markdown",
   "id": "da009da4-faf5-4e68-bd06-fc929417649a",
   "metadata": {},
   "source": [
    "Train your model using model.fit(), setting a validation split of 20% and training for at least 10 epochs."
   ]
  },
  {
   "cell_type": "code",
   "execution_count": 7,
   "id": "823b7856-a1da-44d6-bdba-d16efa3866a4",
   "metadata": {},
   "outputs": [
    {
     "name": "stdout",
     "output_type": "stream",
     "text": [
      "Epoch 1/10\n"
     ]
    },
    {
     "name": "stderr",
     "output_type": "stream",
     "text": [
      "2025-09-10 16:29:02.945568: I tensorflow/core/grappler/optimizers/custom_graph_optimizer_registry.cc:117] Plugin optimizer for device_type GPU is enabled.\n"
     ]
    },
    {
     "name": "stdout",
     "output_type": "stream",
     "text": [
      "\u001b[1m375/375\u001b[0m \u001b[32m━━━━━━━━━━━━━━━━━━━━\u001b[0m\u001b[37m\u001b[0m \u001b[1m13s\u001b[0m 32ms/step - accuracy: 0.7859 - loss: 0.5876 - val_accuracy: 0.8656 - val_loss: 0.3788\n",
      "Epoch 2/10\n",
      "\u001b[1m375/375\u001b[0m \u001b[32m━━━━━━━━━━━━━━━━━━━━\u001b[0m\u001b[37m\u001b[0m \u001b[1m12s\u001b[0m 31ms/step - accuracy: 0.8570 - loss: 0.4000 - val_accuracy: 0.8770 - val_loss: 0.3467\n",
      "Epoch 3/10\n",
      "\u001b[1m375/375\u001b[0m \u001b[32m━━━━━━━━━━━━━━━━━━━━\u001b[0m\u001b[37m\u001b[0m \u001b[1m13s\u001b[0m 35ms/step - accuracy: 0.8683 - loss: 0.3738 - val_accuracy: 0.8848 - val_loss: 0.3407\n",
      "Epoch 4/10\n",
      "\u001b[1m375/375\u001b[0m \u001b[32m━━━━━━━━━━━━━━━━━━━━\u001b[0m\u001b[37m\u001b[0m \u001b[1m16s\u001b[0m 42ms/step - accuracy: 0.8699 - loss: 0.3914 - val_accuracy: 0.8840 - val_loss: 0.3715\n",
      "Epoch 5/10\n",
      "\u001b[1m375/375\u001b[0m \u001b[32m━━━━━━━━━━━━━━━━━━━━\u001b[0m\u001b[37m\u001b[0m \u001b[1m23s\u001b[0m 62ms/step - accuracy: 0.8514 - loss: 0.5820 - val_accuracy: 0.8497 - val_loss: 0.7303\n",
      "Epoch 6/10\n",
      "\u001b[1m375/375\u001b[0m \u001b[32m━━━━━━━━━━━━━━━━━━━━\u001b[0m\u001b[37m\u001b[0m \u001b[1m29s\u001b[0m 79ms/step - accuracy: 0.8288 - loss: 1.5888 - val_accuracy: 0.8523 - val_loss: 2.0382\n",
      "Epoch 7/10\n",
      "\u001b[1m375/375\u001b[0m \u001b[32m━━━━━━━━━━━━━━━━━━━━\u001b[0m\u001b[37m\u001b[0m \u001b[1m23s\u001b[0m 60ms/step - accuracy: 0.8062 - loss: 8.2843 - val_accuracy: 0.8021 - val_loss: 12.3769\n",
      "Epoch 8/10\n",
      "\u001b[1m375/375\u001b[0m \u001b[32m━━━━━━━━━━━━━━━━━━━━\u001b[0m\u001b[37m\u001b[0m \u001b[1m20s\u001b[0m 55ms/step - accuracy: 0.7989 - loss: 39.5196 - val_accuracy: 0.8238 - val_loss: 49.4625\n",
      "Epoch 9/10\n",
      "\u001b[1m375/375\u001b[0m \u001b[32m━━━━━━━━━━━━━━━━━━━━\u001b[0m\u001b[37m\u001b[0m \u001b[1m19s\u001b[0m 52ms/step - accuracy: 0.7938 - loss: 127.7283 - val_accuracy: 0.7732 - val_loss: 145.8161\n",
      "Epoch 10/10\n",
      "\u001b[1m375/375\u001b[0m \u001b[32m━━━━━━━━━━━━━━━━━━━━\u001b[0m\u001b[37m\u001b[0m \u001b[1m18s\u001b[0m 47ms/step - accuracy: 0.7955 - loss: 282.0269 - val_accuracy: 0.8103 - val_loss: 370.3423\n"
     ]
    },
    {
     "data": {
      "text/plain": [
       "<keras.src.callbacks.history.History at 0x30f6d9d90>"
      ]
     },
     "execution_count": 7,
     "metadata": {},
     "output_type": "execute_result"
    }
   ],
   "source": [
    "# Task: Train the model and store the training history in a variable\n",
    "# Your code here\n",
    "model.fit(x_train, y_train_one_hot, batch_size=128, epochs=10, validation_split=0.2)\n"
   ]
  },
  {
   "cell_type": "code",
   "execution_count": 8,
   "id": "d7bfbfa8",
   "metadata": {},
   "outputs": [
    {
     "name": "stdout",
     "output_type": "stream",
     "text": [
      "Epoch 1/3\n",
      "\u001b[1m375/375\u001b[0m \u001b[32m━━━━━━━━━━━━━━━━━━━━\u001b[0m\u001b[37m\u001b[0m \u001b[1m19s\u001b[0m 48ms/step - accuracy: 0.7707 - loss: 0.6210 - val_accuracy: 0.8468 - val_loss: 0.4199\n",
      "Epoch 2/3\n",
      "\u001b[1m375/375\u001b[0m \u001b[32m━━━━━━━━━━━━━━━━━━━━\u001b[0m\u001b[37m\u001b[0m \u001b[1m15s\u001b[0m 40ms/step - accuracy: 0.8502 - loss: 0.4173 - val_accuracy: 0.8782 - val_loss: 0.3411\n",
      "Epoch 3/3\n",
      "\u001b[1m375/375\u001b[0m \u001b[32m━━━━━━━━━━━━━━━━━━━━\u001b[0m\u001b[37m\u001b[0m \u001b[1m14s\u001b[0m 37ms/step - accuracy: 0.8644 - loss: 0.3867 - val_accuracy: 0.8819 - val_loss: 0.3456\n"
     ]
    },
    {
     "data": {
      "text/plain": [
       "<keras.src.callbacks.history.History at 0x31cf6bfd0>"
      ]
     },
     "execution_count": 8,
     "metadata": {},
     "output_type": "execute_result"
    }
   ],
   "source": [
    "# To prevent instability and a sharp drop in performance, we stop the training after fewer epochs, right after the model reaches its peak accuracy.\n",
    "model2 = Sequential([\n",
    "    # Your layers here\n",
    "    Conv2D(32, (3, 3), activation='relu', input_shape=(28, 28, 1)),\n",
    "    Conv2D(64, (3, 3), activation='relu'),\n",
    "    MaxPooling2D((2, 2)),\n",
    "    Conv2D(64, (3, 3), activation='relu'),\n",
    "    MaxPooling2D((2, 2)),\n",
    "    Flatten(),\n",
    "    Dropout(0.5),\n",
    "    Dense(128, activation='relu'),\n",
    "    Dense(10, activation='softmax')\n",
    "])\n",
    "\n",
    "model2.compile(optimizer='adam', loss='categorical_crossentropy', metrics=['accuracy'])\n",
    "model2.fit(x_train, y_train_one_hot, batch_size=128, epochs=3, validation_split=0.2)"
   ]
  },
  {
   "cell_type": "code",
   "execution_count": 9,
   "id": "18ffccca",
   "metadata": {},
   "outputs": [
    {
     "name": "stderr",
     "output_type": "stream",
     "text": [
      "WARNING:absl:You are saving your model as an HDF5 file via `model.save()` or `keras.saving.save_model(model)`. This file format is considered legacy. We recommend using instead the native Keras format, e.g. `model.save('my_model.keras')` or `keras.saving.save_model(model, 'my_model.keras')`. \n"
     ]
    }
   ],
   "source": [
    "model2.save('model_32_64_64_128_10.h5')"
   ]
  },
  {
   "cell_type": "markdown",
   "id": "e8477c37-3f4b-468c-ace9-035cc2d3dd3b",
   "metadata": {},
   "source": [
    "## Evaluate the model"
   ]
  },
  {
   "cell_type": "markdown",
   "id": "1688c614-1558-4206-b6c1-dfd31d89731d",
   "metadata": {},
   "source": [
    "Evaluate your model on the test set and print the test accuracy."
   ]
  },
  {
   "cell_type": "code",
   "execution_count": 10,
   "id": "43c2bf10-5bb6-45cb-b587-04b01a9db6c6",
   "metadata": {},
   "outputs": [
    {
     "name": "stdout",
     "output_type": "stream",
     "text": [
      "Test loss: 395.89825439453125\n",
      "Test accuracy: 0.8009999990463257\n"
     ]
    }
   ],
   "source": [
    "# Task: Evaluate the model on the test data\n",
    "# Your code here\n",
    "score = model.evaluate(x_test, y_test_one_hot, verbose=0)\n",
    "print(\"Test loss:\", score[0])\n",
    "print(\"Test accuracy:\", score[1])"
   ]
  },
  {
   "cell_type": "code",
   "execution_count": 11,
   "id": "30a11a04",
   "metadata": {},
   "outputs": [
    {
     "name": "stdout",
     "output_type": "stream",
     "text": [
      "Test loss: 0.3599530756473541\n",
      "Test accuracy: 0.8801000118255615\n"
     ]
    }
   ],
   "source": [
    "score2 = model2.evaluate(x_test, y_test_one_hot, verbose=0)\n",
    "print(\"Test loss:\", score2[0])\n",
    "print(\"Test accuracy:\", score2[1])"
   ]
  },
  {
   "cell_type": "markdown",
   "id": "bb6eb209-6c4f-4693-acc1-40ee551501ee",
   "metadata": {},
   "source": [
    "Use your model to predict the labels for the test set. Display 5 test images with their predicted and true labels."
   ]
  },
  {
   "cell_type": "code",
   "execution_count": 12,
   "id": "cf2abe64-43b8-4a36-990d-ff5545fd8d73",
   "metadata": {},
   "outputs": [
    {
     "name": "stdout",
     "output_type": "stream",
     "text": [
      "\u001b[1m313/313\u001b[0m \u001b[32m━━━━━━━━━━━━━━━━━━━━\u001b[0m\u001b[37m\u001b[0m \u001b[1m1s\u001b[0m 2ms/step\n"
     ]
    },
    {
     "data": {
      "image/png": "[encoded data removed]",
      "text/plain": [
       "<Figure size 1500x300 with 5 Axes>"
      ]
     },
     "metadata": {},
     "output_type": "display_data"
    }
   ],
   "source": [
    "import numpy as np\n",
    "# Task: Use model.predict() and display predictions\n",
    "# Your code here to display images with predicted and actual labels\n",
    "predictions = model2.predict(x_test)\n",
    "\n",
    "predicted_labels = np.argmax(predictions, axis=1)\n",
    "\n",
    "\n",
    "num_images_to_show = 5\n",
    "indices = np.random.choice(range(len(x_test)), num_images_to_show, replace=False)\n",
    "\n",
    "plt.figure(figsize=(15, 3))\n",
    "for i, idx in enumerate(indices):\n",
    "    plt.subplot(1, num_images_to_show, i + 1)\n",
    "    plt.imshow(x_test[idx].reshape(28, 28), cmap='gray')\n",
    "    plt.title(f\"Real: {y_test[idx]}\\nPrediction: {predicted_labels[idx]}\")\n",
    "    plt.axis('off')\n",
    "\n",
    "plt.tight_layout()\n",
    "plt.show()"
   ]
  },
  {
   "cell_type": "markdown",
   "id": "93ec0729-32bb-40db-9f18-0cb80afa88c0",
   "metadata": {},
   "source": [
    "Construct a confusion matrix to visualize how well your model performed across different classes."
   ]
  },
  {
   "cell_type": "code",
   "execution_count": 21,
   "id": "ce042e0a-bc27-4f66-aba3-31255dacddd1",
   "metadata": {},
   "outputs": [
    {
     "data": {
      "image/png": "[encoded data removed]",
      "text/plain": [
       "<Figure size 640x480 with 2 Axes>"
      ]
     },
     "metadata": {},
     "output_type": "display_data"
    }
   ],
   "source": [
    "from sklearn.metrics import confusion_matrix, ConfusionMatrixDisplay\n",
    "import numpy as np\n",
    "\n",
    "# Task: Create predictions and a confusion matrix\n",
    "# Your code here\n",
    "\n",
    "# Display the confusion matrix\n",
    "# Your code here\n",
    "\n",
    "from sklearn.metrics import confusion_matrix\n",
    "from sklearn import metrics\n",
    "import matplotlib.pyplot as plt\n",
    "import numpy as np\n",
    "cm = confusion_matrix(y_test, predicted_labels)\n",
    "cm_display = ConfusionMatrixDisplay(confusion_matrix=cm, display_labels=np.arange(10))\n",
    "\n",
    "\n",
    "cm_display.plot()\n",
    "plt.show()"
   ]
  }
 ],
 "metadata": {
  "kernelspec": {
   "display_name": "tf_env",
   "language": "python",
   "name": "python3"
  },
  "language_info": {
   "codemirror_mode": {
    "name": "ipython",
    "version": 3
   },
   "file_extension": ".py",
   "mimetype": "text/x-python",
   "name": "python",
   "nbconvert_exporter": "python",
   "pygments_lexer": "ipython3",
   "version": "3.11.8"
  }
 },
 "nbformat": 4,
 "nbformat_minor": 5
}
