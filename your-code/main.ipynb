{
 "cells": [
  {
   "cell_type": "markdown",
   "id": "2d81c019-de9c-4662-9a89-1ae1591416a1",
   "metadata": {},
   "source": [
    "# CNN chalenge"
   ]
  },
  {
   "cell_type": "markdown",
   "id": "4789e379-5662-43be-9fb5-f6484c941118",
   "metadata": {},
   "source": [
    "In this exercise, you will build a CNN to classify images from the Fashion MNIST dataset, train the model, evaluate its performance, and visualize predictions with a confusion matrix."
   ]
  },
  {
   "cell_type": "markdown",
   "id": "e2b4ccc2-cbf4-4828-bd5c-c04b43d0dac5",
   "metadata": {},
   "source": [
    "## Prepare the data"
   ]
  },
  {
   "cell_type": "markdown",
   "id": "6534b95f-29a3-4466-9e74-bcb3276353fe",
   "metadata": {},
   "source": [
    "Load the Fashion MNIST dataset using Keras and display the first few images with their labels to get a sense of the data."
   ]
  },
  {
   "cell_type": "code",
   "execution_count": null,
   "id": "205e1d88-aea7-4c14-9e90-fa27ab2901b3",
   "metadata": {},
   "outputs": [],
   "source": [
    "from tensorflow.keras.datasets import fashion_mnist\n",
    "import matplotlib.pyplot as plt\n",
    "\n",
    "(x_train, y_train), (x_test, y_test) = fashion_mnist.load_data()\n",
    "\n",
    "# Task: Normalize the data to have pixel values between 0 and 1\n",
    "# Your code here"
   ]
  },
  {
   "cell_type": "markdown",
   "id": "5697acba-923a-4dd5-b22f-a39c5d046caf",
   "metadata": {},
   "source": [
    "Visualize 5 random images from the training set with their labels."
   ]
  },
  {
   "cell_type": "code",
   "execution_count": null,
   "id": "f7bd6540-5849-4374-a2bc-ce700f7002d6",
   "metadata": {},
   "outputs": [],
   "source": [
    "# Your code here for visualization"
   ]
  },
  {
   "cell_type": "markdown",
   "id": "372113a7-392e-4bcf-afa4-1bbab8a0af02",
   "metadata": {},
   "source": [
    "Reshape the data to include a channel dimension and confirm the new shape."
   ]
  },
  {
   "cell_type": "code",
   "execution_count": null,
   "id": "f55c275c-142f-42c4-a2b2-9f045d7dcc37",
   "metadata": {},
   "outputs": [],
   "source": [
    "# Task: Reshape x_train and x_test to include the channel dimension\n",
    "# Your code here"
   ]
  },
  {
   "cell_type": "markdown",
   "id": "29d11c54-4ceb-44fe-80ea-f9925f5f7045",
   "metadata": {},
   "source": [
    "## Build the CNN model"
   ]
  },
  {
   "cell_type": "markdown",
   "id": "2ece4b51-6d58-4100-98a9-b6cf5ddb546d",
   "metadata": {},
   "source": [
    "Create a CNN with at least two convolutional layers, followed by max pooling layers, and a dense output layer.\n",
    "\n",
    "Rememeber the `Conv2D`, `MaxPooling2D`, `Flatten`, `Dropout` and `Dense`layers."
   ]
  },
  {
   "cell_type": "code",
   "execution_count": null,
   "id": "a4a0093a-97e2-4987-936f-7322531cc570",
   "metadata": {},
   "outputs": [],
   "source": [
    "from tensorflow.keras import Sequential\n",
    "from tensorflow.keras.layers import Conv2D, MaxPooling2D, Flatten, Dense\n",
    "\n",
    "# Task: Build your model here\n",
    "model = Sequential([\n",
    "    # Your layers here\n",
    "])"
   ]
  },
  {
   "cell_type": "markdown",
   "id": "8e8bf0c0-6010-4217-a14c-fd82ec1e252a",
   "metadata": {},
   "source": [
    "Compile your model with an appropriate optimizer, loss function, and metric."
   ]
  },
  {
   "cell_type": "code",
   "execution_count": null,
   "id": "d4b81088-73b4-45f1-add1-303f8fd8c240",
   "metadata": {},
   "outputs": [],
   "source": [
    "# Task: Compile your model\n",
    "# Your code here"
   ]
  },
  {
   "cell_type": "markdown",
   "id": "da009da4-faf5-4e68-bd06-fc929417649a",
   "metadata": {},
   "source": [
    "Train your model using model.fit(), setting a validation split of 20% and training for at least 10 epochs."
   ]
  },
  {
   "cell_type": "code",
   "execution_count": null,
   "id": "823b7856-a1da-44d6-bdba-d16efa3866a4",
   "metadata": {},
   "outputs": [],
   "source": [
    "# Task: Train the model and store the training history in a variable\n",
    "# Your code here"
   ]
  },
  {
   "cell_type": "markdown",
   "id": "e8477c37-3f4b-468c-ace9-035cc2d3dd3b",
   "metadata": {},
   "source": [
    "## Evaluate the model"
   ]
  },
  {
   "cell_type": "markdown",
   "id": "1688c614-1558-4206-b6c1-dfd31d89731d",
   "metadata": {},
   "source": [
    "Evaluate your model on the test set and print the test accuracy."
   ]
  },
  {
   "cell_type": "code",
   "execution_count": null,
   "id": "43c2bf10-5bb6-45cb-b587-04b01a9db6c6",
   "metadata": {},
   "outputs": [],
   "source": [
    "# Task: Evaluate the model on the test data\n",
    "# Your code here"
   ]
  },
  {
   "cell_type": "markdown",
   "id": "bb6eb209-6c4f-4693-acc1-40ee551501ee",
   "metadata": {},
   "source": [
    "Use your model to predict the labels for the test set. Display 5 test images with their predicted and true labels."
   ]
  },
  {
   "cell_type": "code",
   "execution_count": null,
   "id": "cf2abe64-43b8-4a36-990d-ff5545fd8d73",
   "metadata": {},
   "outputs": [],
   "source": [
    "# Task: Use model.predict() and display predictions\n",
    "# Your code here to display images with predicted and actual labels"
   ]
  },
  {
   "cell_type": "markdown",
   "id": "93ec0729-32bb-40db-9f18-0cb80afa88c0",
   "metadata": {},
   "source": [
    "Construct a confusion matrix to visualize how well your model performed across different classes."
   ]
  },
  {
   "cell_type": "code",
   "execution_count": null,
   "id": "ce042e0a-bc27-4f66-aba3-31255dacddd1",
   "metadata": {},
   "outputs": [],
   "source": [
    "from sklearn.metrics import confusion_matrix, ConfusionMatrixDisplay\n",
    "import numpy as np\n",
    "\n",
    "# Task: Create predictions and a confusion matrix\n",
    "# Your code here\n",
    "\n",
    "# Display the confusion matrix\n",
    "# Your code here"
   ]
  }
 ],
 "metadata": {
  "kernelspec": {
   "display_name": "Python 3 (ipykernel)",
   "language": "python",
   "name": "python3"
  },
  "language_info": {
   "codemirror_mode": {
    "name": "ipython",
    "version": 3
   },
   "file_extension": ".py",
   "mimetype": "text/x-python",
   "name": "python",
   "nbconvert_exporter": "python",
   "pygments_lexer": "ipython3",
   "version": "3.12.2"
  }
 },
 "nbformat": 4,
 "nbformat_minor": 5
}
